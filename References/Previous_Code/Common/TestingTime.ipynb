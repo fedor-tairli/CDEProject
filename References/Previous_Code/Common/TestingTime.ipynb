{
 "cells": [
  {
   "cell_type": "code",
   "execution_count": 1,
   "metadata": {},
   "outputs": [],
   "source": [
    "import torch\n",
    "import numpy as np\n",
    "import Dataset2 as Dataset\n",
    "import importlib\n",
    "import matplotlib.pyplot as plt\n",
    "import networkx as nx\n",
    "from time import sleep\n",
    "\n",
    "importlib.reload(Dataset)\n",
    "DatasetContainer = Dataset.DatasetContainer\n",
    "ProcessingDatasetContainer = Dataset.ProcessingDatasetContainer\n",
    "\n",
    "def PLTParams(figsize = [20,20]):\n",
    "    plt.rcParams['figure.figsize']=figsize\n",
    "    plt.rcParams['font.size']=15\n",
    "PLTParams()\n",
    "\n",
    "import sys\n",
    "\n",
    "sys.path.append('/remote/tychodata/ftairli/work/Projects/ProfileReconstruction/Code/')\n"
   ]
  },
  {
   "cell_type": "code",
   "execution_count": 25,
   "metadata": {},
   "outputs": [
    {
     "name": "stdout",
     "output_type": "stream",
     "text": [
      "1\n",
      "2\n",
      "3\n",
      "{'garbage': 4, 'garb2': 5}\n",
      "Test Success\n",
      "____________________\n",
      "1\n",
      "2\n",
      "3\n",
      "{'garbage3': 4, 'garbage': 4, 'garb2': 56, 'garb6': 5}\n",
      "Test Success\n"
     ]
    }
   ],
   "source": [
    "def func(x,y,arg = None, **kwargs):\n",
    "\n",
    "    print(x)\n",
    "    print(y)\n",
    "    print(arg)\n",
    "    print(kwargs)\n",
    "    if 'NonExistentKwarg' in kwargs : print(kwargs['NonExistentKwarg']) \n",
    "    print('Test Success')\n",
    "\n",
    "Args = {'x': 1, 'y' : 2, 'arg' : 3,'garbage': 4,'garb2':5}\n",
    "\n",
    "func(**Args)\n",
    "print('____________________')\n",
    "Args = {'garbage': 4,'garb2':56}\n",
    "func(1,2,3,garbage3=4,**Args,garb6=5)"
   ]
  },
  {
   "cell_type": "code",
   "execution_count": 35,
   "metadata": {},
   "outputs": [
    {
     "name": "stdout",
     "output_type": "stream",
     "text": [
      "2024-05-22_Wednesday_15-46\n"
     ]
    }
   ],
   "source": [
    "import datetime\n",
    "\n",
    "dir(datetime)\n",
    "print((datetime.datetime.now().strftime(\"%Y-%m-%d_%A_%H-%M\")))"
   ]
  }
 ],
 "metadata": {
  "kernelspec": {
   "display_name": "Python 3",
   "language": "python",
   "name": "python3"
  },
  "language_info": {
   "codemirror_mode": {
    "name": "ipython",
    "version": 3
   },
   "file_extension": ".py",
   "mimetype": "text/x-python",
   "name": "python",
   "nbconvert_exporter": "python",
   "pygments_lexer": "ipython3",
   "version": "3.9.13"
  }
 },
 "nbformat": 4,
 "nbformat_minor": 2
}
