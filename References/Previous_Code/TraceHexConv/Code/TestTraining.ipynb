{
 "cells": [
  {
   "cell_type": "code",
   "execution_count": 10,
   "metadata": {},
   "outputs": [],
   "source": [
    "import sys\n",
    "sys.path.append('/remote/tychodata/ftairli/work/Projects/TraceHexConv/Models/')\n",
    "import gc\n",
    "import torch \n",
    "\n",
    "import torch.optim as optim\n",
    "import torch.utils.data as data\n",
    "from torch.utils.data.sampler import SubsetRandomSampler\n",
    "\n",
    "import time\n",
    "import warnings\n",
    "warnings.filterwarnings(\"ignore\")\n",
    "\n",
    "\n",
    "from Model_2_0 import Model_2_0 as SelectModel\n",
    "from Model_2_0 import MyDataset\n",
    "from Model_2_0 import Loss as Loss_function\n",
    "from Model_2_0 import validate\n",
    "\n",
    "\n",
    "\n",
    "AlreadyDone = False"
   ]
  },
  {
   "cell_type": "code",
   "execution_count": 21,
   "metadata": {},
   "outputs": [],
   "source": [
    "import matplotlib.pyplot as plt\n",
    "import numpy as np"
   ]
  },
  {
   "cell_type": "code",
   "execution_count": 7,
   "metadata": {},
   "outputs": [],
   "source": [
    "# Importing the dataset\n",
    "\n",
    "if not AlreadyDone:\n",
    "    NormData = '/remote/tychodata/ftairli/work/Projects/TraceHexConv/Data/NormData/'\n",
    "    D_main_train = torch.load(NormData+'D_main_train.pt')\n",
    "    D_aux_train  = torch.load(NormData+'D_aux_train.pt')\n",
    "    logE_train   = torch.load(NormData+'logE_train.pt')\n",
    "    Xmax_train   = torch.load(NormData+'Xmax_train.pt')\n",
    "    Axis_train   = torch.load(NormData+'Axis_train.pt')\n",
    "    Core_train   = torch.load(NormData+'Core_train.pt')\n",
    "    # EventMyId_train = torch.load(NormData+'EventMyId_train.pt')\n",
    "\n",
    "    D_main_val = torch.load(NormData+'D_main_val.pt')\n",
    "    D_aux_val  = torch.load(NormData+'D_aux_val.pt')\n",
    "    logE_val   = torch.load(NormData+'logE_val.pt')\n",
    "    Xmax_val   = torch.load(NormData+'Xmax_val.pt')\n",
    "    Axis_val   = torch.load(NormData+'Axis_val.pt')\n",
    "    Core_val   = torch.load(NormData+'Core_val.pt')\n",
    "    # EventMyId_val = torch.load(NormData+'EventMyId_val.pt')\n",
    "    AlreadyDone = True\n",
    "\n",
    "\n"
   ]
  },
  {
   "cell_type": "code",
   "execution_count": 11,
   "metadata": {},
   "outputs": [],
   "source": [
    "# AlreadyDone = True"
   ]
  },
  {
   "cell_type": "code",
   "execution_count": 8,
   "metadata": {},
   "outputs": [],
   "source": [
    "Convert_to_Dense = True\n",
    "if Convert_to_Dense:\n",
    "    if D_main_train.is_sparse:\n",
    "        D_main_train = D_main_train.to_dense()\n",
    "if Convert_to_Dense:\n",
    "    if D_main_val.is_sparse:\n",
    "        D_main_val = D_main_val.to_dense()\n",
    "\n",
    "        "
   ]
  },
  {
   "cell_type": "code",
   "execution_count": 12,
   "metadata": {},
   "outputs": [
    {
     "name": "stdout",
     "output_type": "stream",
     "text": [
      "Using device: cuda\n",
      "Using Coefficients:  [1, 1, 1, 1]\n"
     ]
    }
   ],
   "source": [
    "# Begin Setup\n",
    "\n",
    "device = torch.device(\"cuda\" if torch.cuda.is_available() else \"cpu\")\n",
    "# device = 'cpu'\n",
    "print(f'Using device: {device}')\n",
    "model = SelectModel().to(device)\n",
    "del SelectModel\n",
    "model_Coefficients = model.LossCoefficients\n",
    "print('Using Coefficients: ',model_Coefficients)\n",
    "\n"
   ]
  },
  {
   "cell_type": "code",
   "execution_count": 13,
   "metadata": {},
   "outputs": [],
   "source": [
    "NewSize = 50000\n",
    "if True: # Reduce the Data Size for debug\n",
    "    if D_main_train.is_sparse:\n",
    "        D_main_train = D_main_train.index_select(0,torch.arange(NewSize))\n",
    "    else:\n",
    "        D_main_train = D_main_train[:NewSize]\n",
    "    D_aux_train  = D_aux_train[:NewSize]\n",
    "    logE_train = logE_train[:NewSize]\n",
    "    Core_train = Core_train[:NewSize]\n",
    "    Axis_train = Axis_train[:NewSize]\n",
    "    Xmax_train = Xmax_train[:NewSize]\n",
    "\n"
   ]
  },
  {
   "cell_type": "code",
   "execution_count": 78,
   "metadata": {},
   "outputs": [
    {
     "name": "stdout",
     "output_type": "stream",
     "text": [
      "Training model:  Model_2_0\n"
     ]
    }
   ],
   "source": [
    "# Optimiser\n",
    "LR = 0.001 \n",
    "optimiser = optim.Adam(model.parameters(), lr=LR) ### Weight_decay is Regularisation L2\n",
    "scheduler = torch.optim.lr_scheduler.ReduceLROnPlateau(optimiser, 'min', patience=5, factor=0.1)\n",
    "\n",
    "# Variables\n",
    "# print(X_train.shape)\n",
    "# BatchSize = int(Core_train.shape[0]/512)\n",
    "BatchSize = 100\n",
    "epochs    = 10\n",
    "\n",
    "# Datasets\n",
    "data_train        = (D_main_train,D_aux_train)\n",
    "data_val          = (D_main_val,D_aux_val)\n",
    "targets_train     = (logE_train,Core_train,Axis_train,Xmax_train)\n",
    "targets_val       = (logE_val,Core_val,Axis_val,Xmax_val)\n",
    "\n",
    "train_dataset = MyDataset(data_train,targets_train)\n",
    "val_dataset   = MyDataset(data_val  ,targets_val)\n",
    "\n",
    "\n",
    "dataloader_train    = data.DataLoader(train_dataset,batch_size=BatchSize,shuffle=True)\n",
    "dataloader_val      = data.DataLoader(val_dataset,batch_size=BatchSize,shuffle=True)\n",
    "\n",
    "print('Training model: ',model.Name)\n",
    "# plt.figure()\n",
    "\n"
   ]
  },
  {
   "cell_type": "code",
   "execution_count": 79,
   "metadata": {},
   "outputs": [],
   "source": [
    "# Single Epoch Starts Here\n",
    "model.train()\n",
    "epoch_T_loss = 0\n",
    "epoch_E_loss = 0\n",
    "epoch_C_loss = 0\n",
    "epoch_A_loss = 0\n",
    "epoch_X_loss = 0\n",
    "\n",
    "batchN = 0                               # Current batch number\n",
    "batchT = len(dataloader_train)           # Total N batches"
   ]
  },
  {
   "cell_type": "code",
   "execution_count": 80,
   "metadata": {},
   "outputs": [],
   "source": [
    "# Hand Crank this here\n",
    "batchD_main,batchD_aux, batchlogE,batchCore,batchAxis,batchXmax = next(iter(dataloader_train))\n",
    "\n",
    "batchD_main = batchD_main.to(device)\n",
    "batchD_aux  = batchD_aux.to(device)\n",
    "batchlogE   = batchlogE.to(device)\n",
    "batchCore   = batchCore.to(device)\n",
    "batchAxis   = batchAxis.to(device)\n",
    "batchXmax   = batchXmax.to(device)\n"
   ]
  },
  {
   "cell_type": "code",
   "execution_count": 81,
   "metadata": {},
   "outputs": [],
   "source": [
    "predictions = model(batchD_main,batchD_aux)"
   ]
  },
  {
   "cell_type": "code",
   "execution_count": 82,
   "metadata": {},
   "outputs": [
    {
     "data": {
      "text/plain": [
       "Text(0.5, 1.0, 'Xmax')"
      ]
     },
     "execution_count": 82,
     "metadata": {},
     "output_type": "execute_result"
    },
    {
     "data": {
      "image/png": "[encoded data removed]",
      "text/plain": [
       "<Figure size 640x480 with 2 Axes>"
      ]
     },
     "metadata": {},
     "output_type": "display_data"
    }
   ],
   "source": [
    "fig,axes = plt.subplots(1,2)\n",
    "\n",
    "axes[0].hist(predictions[0].detach().cpu().numpy(),bins = 10)\n",
    "axes[0].set_title('LogE')\n",
    "\n",
    "axes[1].hist(predictions[3].detach().cpu().numpy(),bins = 10)\n",
    "axes[1].set_title('Xmax')\n"
   ]
  },
  {
   "cell_type": "code",
   "execution_count": 83,
   "metadata": {},
   "outputs": [],
   "source": [
    "T_loss,E_loss,C_loss,A_loss,X_Loss = Loss_function(predictions,(batchlogE,batchCore,batchAxis,batchXmax),model_Coefficients)"
   ]
  },
  {
   "cell_type": "code",
   "execution_count": 84,
   "metadata": {},
   "outputs": [
    {
     "name": "stdout",
     "output_type": "stream",
     "text": [
      "T_loss:  79.80170440673828\n",
      "E_loss:  8.935274124145508\n",
      "C_loss:  32.94670104980469\n",
      "A_loss:  21.08374786376953\n",
      "X_loss:  16.835981369018555\n"
     ]
    }
   ],
   "source": [
    "print('T_loss: ',T_loss.item())\n",
    "print('E_loss: ',E_loss.item())\n",
    "print('C_loss: ',C_loss.item())\n",
    "print('A_loss: ',A_loss.item())\n",
    "print('X_loss: ',X_Loss.item())"
   ]
  },
  {
   "cell_type": "code",
   "execution_count": 85,
   "metadata": {},
   "outputs": [],
   "source": [
    "optimiser.zero_grad()\n",
    "T_loss.backward()\n",
    "optimiser.step()\n"
   ]
  },
  {
   "cell_type": "code",
   "execution_count": null,
   "metadata": {},
   "outputs": [],
   "source": []
  }
 ],
 "metadata": {
  "kernelspec": {
   "display_name": "Python 3",
   "language": "python",
   "name": "python3"
  },
  "language_info": {
   "codemirror_mode": {
    "name": "ipython",
    "version": 3
   },
   "file_extension": ".py",
   "mimetype": "text/x-python",
   "name": "python",
   "nbconvert_exporter": "python",
   "pygments_lexer": "ipython3",
   "version": "3.9.13"
  },
  "orig_nbformat": 4
 },
 "nbformat": 4,
 "nbformat_minor": 2
}
