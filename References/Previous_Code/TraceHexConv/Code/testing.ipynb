{
 "cells": [
  {
   "cell_type": "code",
   "execution_count": 1,
   "metadata": {},
   "outputs": [],
   "source": [
    "import torch\n"
   ]
  },
  {
   "cell_type": "code",
   "execution_count": 2,
   "metadata": {},
   "outputs": [],
   "source": [
    "data_main = torch.load('../Data/NormData/D_main_test.pt')"
   ]
  },
  {
   "cell_type": "code",
   "execution_count": 3,
   "metadata": {},
   "outputs": [],
   "source": [
    "data_main =  data_main.to_dense()\n"
   ]
  },
  {
   "cell_type": "code",
   "execution_count": 4,
   "metadata": {},
   "outputs": [],
   "source": [
    "nans = torch.isnan(data_main)\n",
    "nan_index = torch.where(nans==True)"
   ]
  },
  {
   "cell_type": "code",
   "execution_count": 5,
   "metadata": {},
   "outputs": [
    {
     "name": "stdout",
     "output_type": "stream",
     "text": [
      "(tensor([18684, 18690, 19130, 19130, 19130, 19331, 19331, 19331, 19331, 19331,\n",
      "        19331, 19331, 19331, 19331, 19331, 19331, 19331, 19331, 19331, 19331,\n",
      "        19331, 19331, 19331, 19331, 19331, 19331, 19331, 19331, 19331, 19331,\n",
      "        19331, 19331, 19331, 19331, 19331, 19399, 20920, 21257, 21257, 21257,\n",
      "        21257, 21294, 21294, 21295, 21295, 21295, 21354, 21388, 21390, 21390,\n",
      "        21390, 21520, 21520, 21540, 21540, 21540, 21582, 21750, 21750, 21750,\n",
      "        21839, 21893, 21893, 21893, 21960, 21960, 21960, 21960, 21960, 21973,\n",
      "        21973, 21973, 21973, 21973, 21975, 21975, 21975, 21975, 21975, 21975,\n",
      "        21999, 22028, 22117, 22196, 22196, 22196, 22196, 22196, 22755, 22755,\n",
      "        22755, 22755, 22755, 22774, 22980, 23005, 23005, 23005, 23005, 23005,\n",
      "        23005, 23005, 23005, 23048, 23048, 23159, 23159, 23300, 23338, 23510,\n",
      "        23560, 23560, 23560, 23582]), tensor([ 38,  40,  43,  44,  47,  44,  44,  45,  45,  45,  46,  46,  46,  47,\n",
      "         47,  47,  48,  48,  48,  49,  49,  49,  50,  50,  50,  51,  51,  51,\n",
      "         52,  52,  53,  54,  55,  56,  57,  45,  45,  41,  42,  57,  58,  51,\n",
      "         52,  66,  67,  69,  63,  60,  55,  58,  67,  52,  55,  38,  39,  40,\n",
      "         62,  47,  48,  50,  43,  63,  64,  82,  52,  53,  54,  55,  56,  62,\n",
      "         64,  66,  67,  68,  51,  52,  53,  54,  55,  56,  55,  58, 119,  52,\n",
      "         53,  54,  55,  57,  52,  53,  54,  55,  56,  58,  89,  40,  41,  42,\n",
      "         43,  44,  45,  51,  53,  50,  54,  58,  60,  29,  43,  52,  91,  93,\n",
      "         94,  53]), tensor([0, 2, 0, 0, 0, 0, 2, 0, 1, 2, 0, 1, 2, 0, 1, 2, 0, 1, 2, 0, 1, 2, 0, 1,\n",
      "        2, 0, 1, 2, 0, 2, 2, 0, 0, 0, 2, 0, 0, 1, 1, 1, 1, 2, 2, 2, 2, 2, 0, 0,\n",
      "        0, 0, 0, 1, 1, 1, 1, 1, 0, 1, 1, 1, 2, 2, 2, 2, 2, 2, 2, 2, 2, 1, 1, 1,\n",
      "        1, 1, 0, 1, 1, 1, 1, 1, 2, 2, 2, 2, 2, 2, 2, 2, 2, 1, 0, 1, 1, 0, 2, 1,\n",
      "        1, 1, 1, 1, 1, 1, 1, 0, 1, 0, 1, 0, 2, 0, 1, 1, 1, 2]), tensor([5, 5, 5, 5, 5, 5, 5, 5, 5, 5, 5, 5, 5, 5, 5, 5, 5, 5, 5, 5, 5, 5, 5, 5,\n",
      "        5, 5, 5, 5, 5, 5, 5, 5, 5, 5, 5, 5, 5, 5, 5, 5, 5, 5, 5, 5, 5, 5, 5, 5,\n",
      "        5, 5, 5, 5, 5, 5, 5, 5, 5, 5, 5, 5, 5, 5, 5, 5, 5, 5, 5, 5, 5, 5, 5, 5,\n",
      "        5, 5, 5, 5, 5, 5, 5, 5, 5, 5, 5, 5, 5, 5, 5, 5, 5, 5, 5, 5, 5, 5, 5, 5,\n",
      "        5, 5, 5, 5, 5, 5, 5, 5, 5, 5, 5, 5, 5, 5, 5, 5, 5, 5]), tensor([5, 5, 5, 5, 5, 5, 5, 5, 5, 5, 5, 5, 5, 5, 5, 5, 5, 5, 5, 5, 5, 5, 5, 5,\n",
      "        5, 5, 5, 5, 5, 5, 5, 5, 5, 5, 5, 5, 5, 5, 5, 5, 5, 5, 5, 5, 5, 5, 5, 5,\n",
      "        5, 5, 5, 5, 5, 5, 5, 5, 5, 5, 5, 5, 5, 5, 5, 5, 5, 5, 5, 5, 5, 5, 5, 5,\n",
      "        5, 5, 5, 5, 5, 5, 5, 5, 5, 5, 5, 5, 5, 5, 5, 5, 5, 5, 5, 5, 5, 5, 5, 5,\n",
      "        5, 5, 5, 5, 5, 5, 5, 5, 5, 5, 5, 5, 5, 5, 5, 5, 5, 5]))\n"
     ]
    }
   ],
   "source": [
    "print(nan_index)"
   ]
  },
  {
   "cell_type": "code",
   "execution_count": 6,
   "metadata": {},
   "outputs": [
    {
     "name": "stdout",
     "output_type": "stream",
     "text": [
      "tensor([45.6079, 52.8019, 58.5396,  ...,  0.0000,  0.0000,  0.0000])\n"
     ]
    }
   ],
   "source": [
    "print(torch.sum(data_main,dim=(1,2,3,4)))"
   ]
  },
  {
   "cell_type": "code",
   "execution_count": null,
   "metadata": {},
   "outputs": [],
   "source": []
  },
  {
   "cell_type": "code",
   "execution_count": 2,
   "metadata": {},
   "outputs": [
    {
     "name": "stdout",
     "output_type": "stream",
     "text": [
      "torch.Size([0])\n"
     ]
    }
   ],
   "source": [
    "data_aux = torch.load('../Data/NormData/D_aux_test.pt')\n",
    "nan_index_aux = torch.where(torch.isnan(data_aux)==True)\n",
    "print(nan_index_aux[0].shape)"
   ]
  },
  {
   "cell_type": "code",
   "execution_count": 3,
   "metadata": {},
   "outputs": [
    {
     "name": "stdout",
     "output_type": "stream",
     "text": [
      "torch.Size([0])\n"
     ]
    }
   ],
   "source": [
    "logE_train = torch.load('../Data/NormData/logE_test.pt')\n",
    "nan_index_logE = torch.where(torch.isnan(logE_train)==True)\n",
    "print(nan_index_logE[0].shape)"
   ]
  },
  {
   "cell_type": "code",
   "execution_count": 4,
   "metadata": {},
   "outputs": [
    {
     "name": "stdout",
     "output_type": "stream",
     "text": [
      "torch.Size([0])\n"
     ]
    }
   ],
   "source": [
    "Xmax_train = torch.load('../Data/NormData/Xmax_test.pt')\n",
    "nan_index_Xmax = torch.where(torch.isnan(Xmax_train)==True)\n",
    "print(nan_index_Xmax[0].shape)"
   ]
  },
  {
   "cell_type": "code",
   "execution_count": 5,
   "metadata": {},
   "outputs": [
    {
     "name": "stdout",
     "output_type": "stream",
     "text": [
      "torch.Size([0])\n"
     ]
    }
   ],
   "source": [
    "Core_train = torch.load('../Data/NormData/Core_test.pt')\n",
    "nan_index_Core = torch.where(torch.isnan(Core_train)==True)\n",
    "print(nan_index_Core[0].shape)"
   ]
  },
  {
   "cell_type": "code",
   "execution_count": 6,
   "metadata": {},
   "outputs": [
    {
     "name": "stdout",
     "output_type": "stream",
     "text": [
      "torch.Size([0])\n"
     ]
    }
   ],
   "source": [
    "Axis_train = torch.load('../Data/NormData/Axis_test.pt')\n",
    "nan_index_Axis = torch.where(torch.isnan(Axis_train)==True)\n",
    "print(nan_index_Axis[0].shape)\n"
   ]
  },
  {
   "cell_type": "code",
   "execution_count": null,
   "metadata": {},
   "outputs": [],
   "source": []
  }
 ],
 "metadata": {
  "kernelspec": {
   "display_name": "Python 3",
   "language": "python",
   "name": "python3"
  },
  "language_info": {
   "codemirror_mode": {
    "name": "ipython",
    "version": 3
   },
   "file_extension": ".py",
   "mimetype": "text/x-python",
   "name": "python",
   "nbconvert_exporter": "python",
   "pygments_lexer": "ipython3",
   "version": "3.9.13"
  },
  "orig_nbformat": 4
 },
 "nbformat": 4,
 "nbformat_minor": 2
}
