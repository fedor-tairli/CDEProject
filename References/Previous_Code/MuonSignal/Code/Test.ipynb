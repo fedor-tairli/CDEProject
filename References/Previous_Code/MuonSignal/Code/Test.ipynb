{
 "cells": [
  {
   "cell_type": "code",
   "execution_count": 29,
   "metadata": {},
   "outputs": [],
   "source": [
    "import torch \n",
    "import time"
   ]
  },
  {
   "cell_type": "code",
   "execution_count": 12,
   "metadata": {},
   "outputs": [
    {
     "name": "stdout",
     "output_type": "stream",
     "text": [
      "torch.Size([100, 4, 1]) torch.Size([100, 3, 120])\n"
     ]
    }
   ],
   "source": [
    "Aux = torch.load('../Data/NormData/Aux_test.pt')[:100].unsqueeze(2)\n",
    "Main = torch.load('../Data/NormData/Main_test.pt')[:100]\n",
    "print(Aux.shape, Main.shape)"
   ]
  },
  {
   "cell_type": "code",
   "execution_count": null,
   "metadata": {},
   "outputs": [],
   "source": []
  },
  {
   "cell_type": "code",
   "execution_count": 28,
   "metadata": {},
   "outputs": [
    {
     "name": "stdout",
     "output_type": "stream",
     "text": [
      "torch.Size([100, 4, 1]) 139758253699696 139757883206912\n",
      "torch.Size([100, 1, 4]) 139757883484256 139757883479808\n",
      "torch.Size([100, 1, 4]) 139757883483776 139757883479616\n",
      "torch.Size([100, 1, 4]) 139757883484256 139757883479760\n",
      "torch.Size([100, 1, 4]) 139757883483776 139757883479808\n",
      "torch.Size([100, 1, 4]) 139757883484256 139757883479616\n",
      "torch.Size([100, 1, 4]) 139757883482976 139757883479616\n"
     ]
    }
   ],
   "source": [
    "print(Aux.shape,id(Aux),id(Aux.storage()))\n",
    "Aux_reshaped = Aux.squeeze  ().unsqueeze(1)\n",
    "print(Aux_reshaped.shape,id(Aux_reshaped),id(Aux_reshaped.storage()))\n",
    "Aux_reshaped = Aux.transpose(1,2)\n",
    "print(Aux_reshaped.shape,id(Aux_reshaped),id(Aux_reshaped.storage()))\n",
    "Aux_reshaped = Aux.transpose(2,1)\n",
    "print(Aux_reshaped.shape,id(Aux_reshaped),id(Aux_reshaped.storage()))\n",
    "Aux_reshaped = Aux.permute  (0,2,1)\n",
    "print(Aux_reshaped.shape,id(Aux_reshaped),id(Aux_reshaped.storage()))\n",
    "Aux_reshaped = Aux.view     (-1,1,4)\n",
    "print(Aux_reshaped.shape,id(Aux_reshaped),id(Aux_reshaped.storage()))\n",
    "Aux_reshaped = Aux.reshape  (-1,1,4)\n",
    "print(Aux_reshaped.shape,id(Aux_reshaped),id(Aux_reshaped.storage()))\n"
   ]
  },
  {
   "cell_type": "code",
   "execution_count": 35,
   "metadata": {},
   "outputs": [
    {
     "name": "stdout",
     "output_type": "stream",
     "text": [
      "Squeeze and unsqueeze: 0.048965 seconds\n",
      "Transpose:             0.026714 seconds\n",
      "Reshape:               0.038609 seconds\n",
      "View:                  0.031674 seconds\n"
     ]
    }
   ],
   "source": [
    "\n",
    "# Create a random tensor\n",
    "x = torch.rand(128, 120, 1)\n",
    "\n",
    "# Squeeze and unsqueeze\n",
    "start_time = time.time()\n",
    "for i in range(10000):\n",
    "    y = x.squeeze().unsqueeze(1)\n",
    "print(f\"Squeeze and unsqueeze: {time.time() - start_time:.6f} seconds\")\n",
    "\n",
    "# Transpose\n",
    "start_time = time.time()\n",
    "for i in range(10000):\n",
    "    y = x.transpose(1, 2)\n",
    "print(f\"Transpose:             {time.time() - start_time:.6f} seconds\")\n",
    "\n",
    "# Reshape\n",
    "start_time = time.time()\n",
    "for i in range(10000):\n",
    "    y = x.reshape(128, 1,120)\n",
    "print(f\"Reshape:               {time.time() - start_time:.6f} seconds\")\n",
    "\n",
    "# View\n",
    "start_time = time.time()\n",
    "for i in range(10000):\n",
    "    y = x.view(128, 1, 120)\n",
    "print(f\"View:                  {time.time() - start_time:.6f} seconds\")\n"
   ]
  },
  {
   "cell_type": "code",
   "execution_count": 39,
   "metadata": {},
   "outputs": [
    {
     "name": "stdout",
     "output_type": "stream",
     "text": [
      "torch.Size([128, 120, 1])\n",
      "torch.Size([128, 1])\n"
     ]
    },
    {
     "data": {
      "text/plain": [
       "True"
      ]
     },
     "execution_count": 39,
     "metadata": {},
     "output_type": "execute_result"
    }
   ],
   "source": [
    "x = torch.rand(128, 120, 1)\n",
    "print(x.shape)\n",
    "print(x.sum(dim=1).shape)\n"
   ]
  }
 ],
 "metadata": {
  "kernelspec": {
   "display_name": "Python 3",
   "language": "python",
   "name": "python3"
  },
  "language_info": {
   "codemirror_mode": {
    "name": "ipython",
    "version": 3
   },
   "file_extension": ".py",
   "mimetype": "text/x-python",
   "name": "python",
   "nbconvert_exporter": "python",
   "pygments_lexer": "ipython3",
   "version": "3.9.13"
  },
  "orig_nbformat": 4
 },
 "nbformat": 4,
 "nbformat_minor": 2
}
